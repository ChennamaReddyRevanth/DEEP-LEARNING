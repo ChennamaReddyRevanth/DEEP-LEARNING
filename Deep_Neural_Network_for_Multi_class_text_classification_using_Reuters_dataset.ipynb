{
  "nbformat": 4,
  "nbformat_minor": 0,
  "metadata": {
    "colab": {
      "provenance": [],
      "authorship_tag": "ABX9TyM+5ykNm8tg65OEbaWKLlMU",
      "include_colab_link": true
    },
    "kernelspec": {
      "name": "python3",
      "display_name": "Python 3"
    },
    "language_info": {
      "name": "python"
    }
  },
  "cells": [
    {
      "cell_type": "markdown",
      "metadata": {
        "id": "view-in-github",
        "colab_type": "text"
      },
      "source": [
        "<a href=\"https://colab.research.google.com/github/ChennamaReddyRevanth/DEEP-LEARNING/blob/main/Deep_Neural_Network_for_Multi_class_text_classification_using_Reuters_dataset.ipynb\" target=\"_parent\"><img src=\"https://colab.research.google.com/assets/colab-badge.svg\" alt=\"Open In Colab\"/></a>"
      ]
    },
    {
      "cell_type": "code",
      "execution_count": 2,
      "metadata": {
        "id": "TLx_cbhnr5ro"
      },
      "outputs": [],
      "source": [
        "import numpy as np\n",
        "from tensorflow.keras.datasets import reuters\n",
        "from tensorflow.keras.models import Sequential\n",
        "from tensorflow.keras.layers import Embedding,LSTM,Dense\n",
        "from tensorflow.keras.preprocessing.sequence import pad_sequences\n",
        "from tensorflow.keras.utils import to_categorical\n",
        "from sklearn.model_selection import train_test_split"
      ]
    },
    {
      "cell_type": "code",
      "source": [
        "#Load the reuters dataset\n",
        "max_words=10000\n",
        "max_len=100\n",
        "(X_train,y_train),(X_test,y_test)=reuters.load_data(num_words=max_words,test_split=0.2)\n",
        "\n",
        "#pad_sequence\n",
        "X_train=pad_sequences(X_train,maxlen=max_len)\n",
        "X_test=pad_sequences(X_test,maxlen=max_len)"
      ],
      "metadata": {
        "colab": {
          "base_uri": "https://localhost:8080/"
        },
        "id": "czltrezewvTx",
        "outputId": "d324e156-63c6-44b4-d97c-ee9ca8953eef"
      },
      "execution_count": 3,
      "outputs": [
        {
          "output_type": "stream",
          "name": "stdout",
          "text": [
            "Downloading data from https://storage.googleapis.com/tensorflow/tf-keras-datasets/reuters.npz\n",
            "2110848/2110848 [==============================] - 0s 0us/step\n"
          ]
        }
      ]
    },
    {
      "cell_type": "code",
      "source": [
        "#one-hot encode the labels\n",
        "\n",
        "y_train=to_categorical(y_train,num_classes=46) #There are 46 classes in the reuters dataset\n",
        "y_test=to_categorical(y_test,num_classes=46)"
      ],
      "metadata": {
        "id": "Mg7eFA5XxXBy"
      },
      "execution_count": 4,
      "outputs": []
    },
    {
      "cell_type": "code",
      "source": [
        "#split the training data into training and validation sets\n",
        "X_train,X_val,y_train,y_val=train_test_split(X_train,y_train,test_size=0.2,random_state=42)\n"
      ],
      "metadata": {
        "id": "c6hJFqU6xtml"
      },
      "execution_count": 5,
      "outputs": []
    },
    {
      "cell_type": "code",
      "source": [
        "#Create the model\n",
        "model=Sequential()\n",
        "model.add(Embedding(max_words,128,input_length=max_len))\n",
        "model.add(LSTM(64,dropout=0.2,recurrent_dropout=0.2))\n",
        "model.add(Dense(46,activation='softmax'))"
      ],
      "metadata": {
        "id": "65wR3ogwyBBY"
      },
      "execution_count": 7,
      "outputs": []
    },
    {
      "cell_type": "code",
      "source": [
        "#compile the model\n",
        "model.compile(optimizer='adam',loss='categorical_crossentropy',metrics=['accuracy'])\n",
        "\n",
        "#Train the model\n",
        "model.fit(X_train,y_train,validation_data=(X_val,y_val),epochs=5,batch_size=32)"
      ],
      "metadata": {
        "colab": {
          "base_uri": "https://localhost:8080/"
        },
        "id": "1N7SECSqydOO",
        "outputId": "c07de511-56d8-4765-8c53-f4d31dae599d"
      },
      "execution_count": 8,
      "outputs": [
        {
          "output_type": "stream",
          "name": "stdout",
          "text": [
            "Epoch 1/5\n",
            "225/225 [==============================] - 52s 215ms/step - loss: 2.2869 - accuracy: 0.4206 - val_loss: 1.9904 - val_accuracy: 0.4574\n",
            "Epoch 2/5\n",
            "225/225 [==============================] - 49s 214ms/step - loss: 1.7998 - accuracy: 0.5324 - val_loss: 1.7040 - val_accuracy: 0.5609\n",
            "Epoch 3/5\n",
            "225/225 [==============================] - 42s 188ms/step - loss: 1.6308 - accuracy: 0.5723 - val_loss: 1.6926 - val_accuracy: 0.5871\n",
            "Epoch 4/5\n",
            "225/225 [==============================] - 42s 187ms/step - loss: 1.4630 - accuracy: 0.6374 - val_loss: 1.5235 - val_accuracy: 0.6294\n",
            "Epoch 5/5\n",
            "225/225 [==============================] - 42s 187ms/step - loss: 1.1956 - accuracy: 0.7022 - val_loss: 1.4047 - val_accuracy: 0.6644\n"
          ]
        },
        {
          "output_type": "execute_result",
          "data": {
            "text/plain": [
              "<keras.src.callbacks.History at 0x7ff434788700>"
            ]
          },
          "metadata": {},
          "execution_count": 8
        }
      ]
    },
    {
      "cell_type": "code",
      "source": [
        "loss,accuracy=model.evaluate(X_test,y_test)\n",
        "print(f\"Test Loss: {loss:.4f}, Test Accuracy: {accuracy:.4f}\")"
      ],
      "metadata": {
        "colab": {
          "base_uri": "https://localhost:8080/"
        },
        "id": "5btSgg65y8C6",
        "outputId": "c6108adf-cd7d-4f2c-8438-e20d1df0bf0a"
      },
      "execution_count": 9,
      "outputs": [
        {
          "output_type": "stream",
          "name": "stdout",
          "text": [
            "71/71 [==============================] - 5s 69ms/step - loss: 1.5054 - accuracy: 0.6460\n",
            "Test Loss: 1.5054, Test Accuracy: 0.6460\n"
          ]
        }
      ]
    }
  ]
}