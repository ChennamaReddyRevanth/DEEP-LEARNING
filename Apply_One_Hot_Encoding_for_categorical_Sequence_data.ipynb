{
  "nbformat": 4,
  "nbformat_minor": 0,
  "metadata": {
    "colab": {
      "provenance": [],
      "authorship_tag": "ABX9TyOUIi2L8YCf6S5Fxa7qtGkn",
      "include_colab_link": true
    },
    "kernelspec": {
      "name": "python3",
      "display_name": "Python 3"
    },
    "language_info": {
      "name": "python"
    }
  },
  "cells": [
    {
      "cell_type": "markdown",
      "metadata": {
        "id": "view-in-github",
        "colab_type": "text"
      },
      "source": [
        "<a href=\"https://colab.research.google.com/github/ChennamaReddyRevanth/DEEP-LEARNING/blob/main/Apply_One_Hot_Encoding_for_categorical_Sequence_data.ipynb\" target=\"_parent\"><img src=\"https://colab.research.google.com/assets/colab-badge.svg\" alt=\"Open In Colab\"/></a>"
      ]
    },
    {
      "cell_type": "code",
      "execution_count": 2,
      "metadata": {
        "id": "zskMFq9up47Y"
      },
      "outputs": [],
      "source": [
        "import numpy as np\n",
        "from tensorflow.keras.preprocessing.text import Tokenizer\n",
        "from tensorflow.keras.preprocessing.sequence import pad_sequences"
      ]
    },
    {
      "cell_type": "code",
      "source": [
        "sequences=['cat and dog',\n",
        "           'dog and bird',\n",
        "           'bird in the sky',\n",
        "           'fish in the ocean']\n"
      ],
      "metadata": {
        "id": "CBqLb7iFvtnL"
      },
      "execution_count": 3,
      "outputs": []
    },
    {
      "cell_type": "code",
      "source": [
        "tokenizer=Tokenizer()\n",
        "tokenizer.fit_on_texts(sequences)"
      ],
      "metadata": {
        "id": "mghQCuSj2s8C"
      },
      "execution_count": 4,
      "outputs": []
    },
    {
      "cell_type": "code",
      "source": [
        "#convert text sequences to integer sequences\n",
        "integer_sequences= tokenizer.texts_to_sequences(sequences)"
      ],
      "metadata": {
        "id": "C1qJ6k3D5WW0"
      },
      "execution_count": 5,
      "outputs": []
    },
    {
      "cell_type": "code",
      "source": [
        "#pad sequences to a fixed length\n",
        "max_len = max(map(len,integer_sequences))\n",
        "padded_sequences = pad_sequences(integer_sequences,maxlen=max_len,padding='post')"
      ],
      "metadata": {
        "id": "z1nfAFUG5nca"
      },
      "execution_count": 6,
      "outputs": []
    },
    {
      "cell_type": "code",
      "source": [
        "#one-hot encode the padded sequences\n",
        "one_hot_encoded=np.zeros((len(padded_sequences),max_len,len(tokenizer.word_index)+1),dtype=int)"
      ],
      "metadata": {
        "id": "5-Ml-alS6tcH"
      },
      "execution_count": 8,
      "outputs": []
    },
    {
      "cell_type": "code",
      "source": [
        "for i,sequence in enumerate(padded_sequences):\n",
        "  for j,index in enumerate(sequence):\n",
        "    one_hot_encoded[i,j,index]=1\n",
        "print(\"Original Sequences: \")\n",
        "print(sequences)\n",
        "print(\"\\n One-Hot Encoded Sequences: \")\n",
        "print(one_hot_encoded)"
      ],
      "metadata": {
        "colab": {
          "base_uri": "https://localhost:8080/"
        },
        "id": "mOrb2L-s8E4J",
        "outputId": "acbd9b5a-3739-4532-e915-2cd3081084ed"
      },
      "execution_count": 9,
      "outputs": [
        {
          "output_type": "stream",
          "name": "stdout",
          "text": [
            "Original Sequences: \n",
            "['cat and dog', 'dog and bird', 'bird in the sky', 'fish in the ocean']\n",
            "\n",
            " One-Hot Encoded Sequences: \n",
            "[[[0 0 0 0 0 0 1 0 0 0]\n",
            "  [0 1 0 0 0 0 0 0 0 0]\n",
            "  [0 0 1 0 0 0 0 0 0 0]\n",
            "  [1 0 0 0 0 0 0 0 0 0]]\n",
            "\n",
            " [[0 0 1 0 0 0 0 0 0 0]\n",
            "  [0 1 0 0 0 0 0 0 0 0]\n",
            "  [0 0 0 1 0 0 0 0 0 0]\n",
            "  [1 0 0 0 0 0 0 0 0 0]]\n",
            "\n",
            " [[0 0 0 1 0 0 0 0 0 0]\n",
            "  [0 0 0 0 1 0 0 0 0 0]\n",
            "  [0 0 0 0 0 1 0 0 0 0]\n",
            "  [0 0 0 0 0 0 0 1 0 0]]\n",
            "\n",
            " [[0 0 0 0 0 0 0 0 1 0]\n",
            "  [0 0 0 0 1 0 0 0 0 0]\n",
            "  [0 0 0 0 0 1 0 0 0 0]\n",
            "  [0 0 0 0 0 0 0 0 0 1]]]\n"
          ]
        }
      ]
    }
  ]
}