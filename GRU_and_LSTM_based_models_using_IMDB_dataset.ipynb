{
  "nbformat": 4,
  "nbformat_minor": 0,
  "metadata": {
    "colab": {
      "provenance": [],
      "authorship_tag": "ABX9TyNsYehvR156sHpexVrefAGN",
      "include_colab_link": true
    },
    "kernelspec": {
      "name": "python3",
      "display_name": "Python 3"
    },
    "language_info": {
      "name": "python"
    }
  },
  "cells": [
    {
      "cell_type": "markdown",
      "metadata": {
        "id": "view-in-github",
        "colab_type": "text"
      },
      "source": [
        "<a href=\"https://colab.research.google.com/github/ChennamaReddyRevanth/DEEP-LEARNING/blob/main/GRU_and_LSTM_based_models_using_IMDB_dataset.ipynb\" target=\"_parent\"><img src=\"https://colab.research.google.com/assets/colab-badge.svg\" alt=\"Open In Colab\"/></a>"
      ]
    },
    {
      "cell_type": "code",
      "execution_count": 1,
      "metadata": {
        "id": "hH2Bpp0A4znn"
      },
      "outputs": [],
      "source": [
        "import numpy as np\n",
        "from tensorflow.keras.datasets import imdb\n",
        "from tensorflow.keras.models import Sequential\n",
        "from tensorflow.keras.layers import Embedding,GRU,LSTM, Dense\n",
        "from tensorflow.keras.preprocessing.sequence import pad_sequences\n",
        "from tensorflow.keras.utils import to_categorical\n",
        "from sklearn.model_selection import train_test_split\n"
      ]
    },
    {
      "cell_type": "code",
      "source": [
        "#load the IMDB dataset\n",
        "vocab_size=10000\n",
        "max_len=200\n",
        "(X_train,y_train),(X_test,y_test)=imdb.load_data(num_words=vocab_size)\n"
      ],
      "metadata": {
        "colab": {
          "base_uri": "https://localhost:8080/"
        },
        "id": "ZofaJmKi6mzV",
        "outputId": "1d7bc022-1294-42c8-8c71-963353781d06"
      },
      "execution_count": 2,
      "outputs": [
        {
          "output_type": "stream",
          "name": "stdout",
          "text": [
            "Downloading data from https://storage.googleapis.com/tensorflow/tf-keras-datasets/imdb.npz\n",
            "17464789/17464789 [==============================] - 0s 0us/step\n"
          ]
        }
      ]
    },
    {
      "cell_type": "code",
      "source": [
        "#pad sequences to a fixed length\n",
        "X_train=pad_sequences(X_train,maxlen=max_len)\n",
        "X_test=pad_sequences(X_test,maxlen=max_len)"
      ],
      "metadata": {
        "id": "y6_UwlEx647h"
      },
      "execution_count": 3,
      "outputs": []
    },
    {
      "cell_type": "code",
      "source": [
        "#one- hot encode the labels\n",
        "y_train=to_categorical(y_train,num_classes=2)\n",
        "y_test=to_categorical(y_test,num_classes=2)"
      ],
      "metadata": {
        "id": "BpRiFZLa7grc"
      },
      "execution_count": 4,
      "outputs": []
    },
    {
      "cell_type": "code",
      "source": [
        "#split the training data inot training and validatoin sets\n",
        "X_train,X_val,y_train,y_val=train_test_split(X_train,y_train,test_size=0.2,random_state=42)"
      ],
      "metadata": {
        "id": "4q-Yz7mz7xxl"
      },
      "execution_count": 8,
      "outputs": []
    },
    {
      "cell_type": "code",
      "source": [
        "# DEfine a GRU -based model\n",
        "model_gru = Sequential()\n",
        "model_gru.add(Embedding(vocab_size,128,input_length=max_len))\n",
        "model_gru.add(GRU(64))\n",
        "model_gru.add(Dense(2,activation='softmax'))\n",
        "model_gru.compile(optimizer='adam',loss='categorical_crossentropy',metrics=['accuracy'])"
      ],
      "metadata": {
        "id": "0UesS9LD8Cyi"
      },
      "execution_count": 9,
      "outputs": []
    },
    {
      "cell_type": "code",
      "source": [
        "#Train the GRU model\n",
        "model_gru.fit(X_train,y_train,validation_data=(X_val,y_val),epochs=3,batch_size=64)"
      ],
      "metadata": {
        "colab": {
          "base_uri": "https://localhost:8080/"
        },
        "id": "HJZJ5zlc803s",
        "outputId": "d89f6279-f050-4a06-b205-011ae6739752"
      },
      "execution_count": 10,
      "outputs": [
        {
          "output_type": "stream",
          "name": "stdout",
          "text": [
            "Epoch 1/3\n",
            "313/313 [==============================] - 92s 288ms/step - loss: 0.4283 - accuracy: 0.7867 - val_loss: 0.3337 - val_accuracy: 0.8582\n",
            "Epoch 2/3\n",
            "313/313 [==============================] - 98s 314ms/step - loss: 0.2258 - accuracy: 0.9111 - val_loss: 0.3305 - val_accuracy: 0.8584\n",
            "Epoch 3/3\n",
            "313/313 [==============================] - 98s 315ms/step - loss: 0.1515 - accuracy: 0.9444 - val_loss: 0.3880 - val_accuracy: 0.8640\n"
          ]
        },
        {
          "output_type": "execute_result",
          "data": {
            "text/plain": [
              "<keras.src.callbacks.History at 0x783e0eb61960>"
            ]
          },
          "metadata": {},
          "execution_count": 10
        }
      ]
    },
    {
      "cell_type": "code",
      "source": [
        "#Evaluate the GRU model\n",
        "gru_loss,gru_accuracy=model_gru.evaluate(X_test,y_test)\n",
        "print(f\"GRU Model - Test Loss: {gru_loss:.4f}, Test Accuracy:{gru_accuracy:.4f}\")\n"
      ],
      "metadata": {
        "colab": {
          "base_uri": "https://localhost:8080/"
        },
        "id": "nCaXKkcY9LSU",
        "outputId": "c7a989c7-0edd-435e-f8fe-b733d6436f65"
      },
      "execution_count": 11,
      "outputs": [
        {
          "output_type": "stream",
          "name": "stdout",
          "text": [
            "782/782 [==============================] - 29s 37ms/step - loss: 0.4103 - accuracy: 0.8578\n",
            "GRU Model - Test Loss: 0.4103, Test Accuracy:0.8578\n"
          ]
        }
      ]
    },
    {
      "cell_type": "code",
      "source": [
        "#define an LSTM-based model\n",
        "model_lstm=Sequential()\n",
        "model_lstm.add(Embedding(vocab_size,128,input_length=max_len))\n",
        "model_lstm.add(LSTM(64))\n",
        "model_lstm.add(Dense(2,activation='softmax'))\n",
        "model_lstm.compile(optimizer='adam',loss='categorical_crossentropy',metrics=['accuracy'])\n"
      ],
      "metadata": {
        "id": "Cu7lWxI19pGL"
      },
      "execution_count": 13,
      "outputs": []
    },
    {
      "cell_type": "code",
      "source": [
        "#train the LSTM model\n",
        "model_lstm.fit(X_train,y_train,validation_data=(X_val,y_val),epochs=3,batch_size=64)\n",
        "\n",
        "#Evaluate the LSTM model\n",
        "lstm_loss,lstm_accuracy = model_lstm.evaluate(X_test,y_test)\n",
        "print(f\"LSTM Model - Test Loss: {lstm_loss:.4f}, Test Accuracy: {lstm_accuracy:.4f}\")"
      ],
      "metadata": {
        "colab": {
          "base_uri": "https://localhost:8080/"
        },
        "id": "3mkWybuf-MCR",
        "outputId": "85a7d40e-c432-47b5-e4a4-9fbe2f9d32eb"
      },
      "execution_count": 14,
      "outputs": [
        {
          "output_type": "stream",
          "name": "stdout",
          "text": [
            "Epoch 1/3\n",
            "313/313 [==============================] - 87s 270ms/step - loss: 0.4004 - accuracy: 0.8131 - val_loss: 0.3080 - val_accuracy: 0.8656\n",
            "Epoch 2/3\n",
            "313/313 [==============================] - 91s 289ms/step - loss: 0.2267 - accuracy: 0.9144 - val_loss: 0.3258 - val_accuracy: 0.8640\n",
            "Epoch 3/3\n",
            "313/313 [==============================] - 84s 270ms/step - loss: 0.1552 - accuracy: 0.9445 - val_loss: 0.3625 - val_accuracy: 0.8596\n",
            "782/782 [==============================] - 27s 35ms/step - loss: 0.3649 - accuracy: 0.8574\n",
            "LSTM Model - Test Loss: 0.3649, Test Accuracy: 0.8574\n"
          ]
        }
      ]
    }
  ]
}