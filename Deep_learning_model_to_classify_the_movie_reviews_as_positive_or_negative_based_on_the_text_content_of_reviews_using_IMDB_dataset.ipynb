{
  "nbformat": 4,
  "nbformat_minor": 0,
  "metadata": {
    "colab": {
      "provenance": [],
      "authorship_tag": "ABX9TyNiUf55S/N9H8iZceIDqMH3",
      "include_colab_link": true
    },
    "kernelspec": {
      "name": "python3",
      "display_name": "Python 3"
    },
    "language_info": {
      "name": "python"
    }
  },
  "cells": [
    {
      "cell_type": "markdown",
      "metadata": {
        "id": "view-in-github",
        "colab_type": "text"
      },
      "source": [
        "<a href=\"https://colab.research.google.com/github/ChennamaReddyRevanth/DEEP-LEARNING/blob/main/Deep_learning_model_to_classify_the_movie_reviews_as_positive_or_negative_based_on_the_text_content_of_reviews_using_IMDB_dataset.ipynb\" target=\"_parent\"><img src=\"https://colab.research.google.com/assets/colab-badge.svg\" alt=\"Open In Colab\"/></a>"
      ]
    },
    {
      "cell_type": "code",
      "execution_count": 2,
      "metadata": {
        "id": "7-L06VbAklCF"
      },
      "outputs": [],
      "source": [
        "import numpy as np\n",
        "from tensorflow.keras.datasets import imdb\n",
        "from tensorflow.keras.models import Sequential\n",
        "from tensorflow.keras.layers import Embedding,Dense,Flatten\n",
        "from tensorflow.keras.preprocessing.sequence import pad_sequences\n",
        "from tensorflow.keras.utils import to_categorical\n",
        "from sklearn.model_selection import train_test_split"
      ]
    },
    {
      "cell_type": "code",
      "source": [
        "# Load the IMDB dataset\n",
        "max_words = 10000\n",
        "max_len = 200\n",
        "(X_train, y_train), (X_test, y_test) = imdb.load_data(num_words=max_words)\n"
      ],
      "metadata": {
        "id": "QjqeO3S2loWd"
      },
      "execution_count": 25,
      "outputs": []
    },
    {
      "cell_type": "code",
      "source": [
        "# Pad sequences to a fixed length\n",
        "X_train = pad_sequences(X_train, maxlen=max_len)\n",
        "X_test = pad_sequences(X_test, maxlen=max_len)"
      ],
      "metadata": {
        "id": "cJlmK8mLl4ra"
      },
      "execution_count": 26,
      "outputs": []
    },
    {
      "cell_type": "code",
      "source": [
        "# One-hot encode the labels\n",
        "y_train = to_categorical(y_train, num_classes=2)\n",
        "y_test = to_categorical(y_test, num_classes=2)"
      ],
      "metadata": {
        "id": "USG9RE-ZmN4-"
      },
      "execution_count": 27,
      "outputs": []
    },
    {
      "cell_type": "code",
      "source": [
        "\n",
        "# Split the training data into training and validation sets\n",
        "X_train, X_val, y_train, y_val = train_test_split(X_train, y_train, test_size=0.2, random_state=42)"
      ],
      "metadata": {
        "id": "KzVUoQEDmY7G"
      },
      "execution_count": 28,
      "outputs": []
    },
    {
      "cell_type": "code",
      "source": [
        "\n",
        "# Define the deep learning model\n",
        "model = Sequential()\n",
        "model.add(Embedding(max_words, 32, input_length=max_len))\n",
        "model.add(Flatten())\n",
        "model.add(Dense(64, activation='relu'))\n",
        "model.add(Dense(2, activation='softmax'))"
      ],
      "metadata": {
        "id": "tFXNNchLmovX"
      },
      "execution_count": 29,
      "outputs": []
    },
    {
      "cell_type": "code",
      "source": [
        "# Compile the model\n",
        "model.compile(optimizer='adam', loss='categorical_crossentropy', metrics=['accuracy'])"
      ],
      "metadata": {
        "id": "fM9wkyUZnFR2"
      },
      "execution_count": 30,
      "outputs": []
    },
    {
      "cell_type": "code",
      "source": [
        "\n",
        "\n",
        "\n",
        "# Train the model\n",
        "epochs = 5\n",
        "batch_size = 64\n",
        "model.fit(X_train, y_train, validation_data=(X_val, y_val), epochs=epochs, batch_size=batch_size)\n",
        "\n",
        "# Evaluate the model on the test set\n",
        "loss, accuracy = model.evaluate(X_test, y_test)\n",
        "print(f\"Test Loss: {loss:.4f}, Test Accuracy: {accuracy:.4f}\")\n"
      ],
      "metadata": {
        "colab": {
          "base_uri": "https://localhost:8080/"
        },
        "id": "z1JZAm84nZtU",
        "outputId": "947edbdb-d7d1-4e1b-867e-0e3736b32a95"
      },
      "execution_count": 31,
      "outputs": [
        {
          "output_type": "stream",
          "name": "stdout",
          "text": [
            "Epoch 1/5\n",
            "313/313 [==============================] - 6s 17ms/step - loss: 0.4407 - accuracy: 0.7714 - val_loss: 0.3026 - val_accuracy: 0.8654\n",
            "Epoch 2/5\n",
            "313/313 [==============================] - 4s 13ms/step - loss: 0.1185 - accuracy: 0.9601 - val_loss: 0.3596 - val_accuracy: 0.8604\n",
            "Epoch 3/5\n",
            "313/313 [==============================] - 4s 13ms/step - loss: 0.0140 - accuracy: 0.9981 - val_loss: 0.4464 - val_accuracy: 0.8558\n",
            "Epoch 4/5\n",
            "313/313 [==============================] - 5s 18ms/step - loss: 0.0018 - accuracy: 1.0000 - val_loss: 0.4823 - val_accuracy: 0.8606\n",
            "Epoch 5/5\n",
            "313/313 [==============================] - 4s 13ms/step - loss: 6.6830e-04 - accuracy: 1.0000 - val_loss: 0.5099 - val_accuracy: 0.8594\n",
            "782/782 [==============================] - 2s 2ms/step - loss: 0.5398 - accuracy: 0.8568\n",
            "Test Loss: 0.5398, Test Accuracy: 0.8568\n"
          ]
        }
      ]
    }
  ]
}