{
  "nbformat": 4,
  "nbformat_minor": 0,
  "metadata": {
    "colab": {
      "provenance": [],
      "authorship_tag": "ABX9TyO99z0pYg4h58POCLRo5i58",
      "include_colab_link": true
    },
    "kernelspec": {
      "name": "python3",
      "display_name": "Python 3"
    },
    "language_info": {
      "name": "python"
    }
  },
  "cells": [
    {
      "cell_type": "markdown",
      "metadata": {
        "id": "view-in-github",
        "colab_type": "text"
      },
      "source": [
        "<a href=\"https://colab.research.google.com/github/ChennamaReddyRevanth/DEEP-LEARNING/blob/main/Convolutional_Neural_Networks_using_MNIST_dataset.ipynb\" target=\"_parent\"><img src=\"https://colab.research.google.com/assets/colab-badge.svg\" alt=\"Open In Colab\"/></a>"
      ]
    },
    {
      "cell_type": "code",
      "source": [
        "import numpy as np\n",
        "from tensorflow.keras.datasets import mnist\n",
        "from tensorflow.keras.models import Sequential\n",
        "from tensorflow.keras.layers import Conv2D, MaxPooling2D, Flatten, Dense\n",
        "from tensorflow.keras.utils import to_categorical\n",
        "from sklearn.model_selection import train_test_split\n",
        "\n",
        "# Load the MNIST dataset\n",
        "(X_train, y_train), (X_test, y_test) = mnist.load_data()\n",
        "\n",
        "# Normalize pixel values to be between 0 and 1\n",
        "X_train = X_train.astype('float32') / 255.0\n",
        "X_test = X_test.astype('float32') / 255.0\n",
        "\n",
        "# Reshape the data to add a channel dimension (for convolutional layers)\n",
        "X_train = np.expand_dims(X_train, axis=-1)  # Now shape is (60000, 28, 28, 1)\n",
        "X_test = np.expand_dims(X_test, axis=-1)  # Now shape is (10000, 28, 28, 1)\n",
        "\n",
        "# One-hot encode the labels\n",
        "y_train = to_categorical(y_train, 10)  # 10 classes (digits 0 through 9)\n",
        "y_test = to_categorical(y_test, 10)\n",
        "\n",
        "# Split the training data into training and validation sets\n",
        "X_train, X_val, y_train, y_val = train_test_split(X_train, y_train, test_size=0.2, random_state=42)\n",
        "\n",
        "# Define the CNN model\n",
        "model = Sequential()\n",
        "model.add(Conv2D(32, kernel_size=(3, 3), activation='relu', input_shape=(28, 28, 1)))\n",
        "model.add(MaxPooling2D(pool_size=(2, 2)))\n",
        "model.add(Conv2D(64, kernel_size=(3, 3), activation='relu'))\n",
        "model.add(MaxPooling2D(pool_size=(2, 2)))\n",
        "model.add(Flatten())\n",
        "model.add(Dense(128, activation='relu'))\n",
        "model.add(Dense(10, activation='softmax'))\n",
        "\n",
        "# Compile the model\n",
        "model.compile(optimizer='adam', loss='categorical_crossentropy', metrics=['accuracy'])\n",
        "\n",
        "# Train the model\n",
        "epochs = 10\n",
        "batch_size = 128\n",
        "model.fit(X_train, y_train, validation_data=(X_val, y_val), epochs=epochs, batch_size=batch_size)\n",
        "\n",
        "# Evaluate the model on the test set\n",
        "loss, accuracy = model.evaluate(X_test, y_test)\n",
        "print(f\"Test Loss: {loss:.4f}, Test Accuracy: {accuracy:.4f}\")\n"
      ],
      "metadata": {
        "colab": {
          "base_uri": "https://localhost:8080/"
        },
        "id": "YrPTVPYY5BuB",
        "outputId": "a14afd9e-7a68-454a-cf3a-39a7af50e7c3"
      },
      "execution_count": 37,
      "outputs": [
        {
          "output_type": "stream",
          "name": "stdout",
          "text": [
            "Epoch 1/10\n",
            "375/375 [==============================] - 35s 91ms/step - loss: 0.2660 - accuracy: 0.9203 - val_loss: 0.0862 - val_accuracy: 0.9735\n",
            "Epoch 2/10\n",
            "375/375 [==============================] - 35s 92ms/step - loss: 0.0678 - accuracy: 0.9791 - val_loss: 0.0541 - val_accuracy: 0.9847\n",
            "Epoch 3/10\n",
            "375/375 [==============================] - 34s 90ms/step - loss: 0.0462 - accuracy: 0.9862 - val_loss: 0.0483 - val_accuracy: 0.9865\n",
            "Epoch 4/10\n",
            "375/375 [==============================] - 34s 90ms/step - loss: 0.0370 - accuracy: 0.9883 - val_loss: 0.0444 - val_accuracy: 0.9875\n",
            "Epoch 5/10\n",
            "375/375 [==============================] - 35s 94ms/step - loss: 0.0282 - accuracy: 0.9914 - val_loss: 0.0408 - val_accuracy: 0.9885\n",
            "Epoch 6/10\n",
            "375/375 [==============================] - 39s 103ms/step - loss: 0.0216 - accuracy: 0.9937 - val_loss: 0.0477 - val_accuracy: 0.9879\n",
            "Epoch 7/10\n",
            "375/375 [==============================] - 35s 93ms/step - loss: 0.0180 - accuracy: 0.9943 - val_loss: 0.0401 - val_accuracy: 0.9889\n",
            "Epoch 8/10\n",
            "375/375 [==============================] - 33s 88ms/step - loss: 0.0149 - accuracy: 0.9950 - val_loss: 0.0374 - val_accuracy: 0.9902\n",
            "Epoch 9/10\n",
            "375/375 [==============================] - 37s 98ms/step - loss: 0.0109 - accuracy: 0.9966 - val_loss: 0.0484 - val_accuracy: 0.9871\n",
            "Epoch 10/10\n",
            "375/375 [==============================] - 34s 89ms/step - loss: 0.0097 - accuracy: 0.9971 - val_loss: 0.0408 - val_accuracy: 0.9898\n",
            "313/313 [==============================] - 2s 7ms/step - loss: 0.0364 - accuracy: 0.9889\n",
            "Test Loss: 0.0364, Test Accuracy: 0.9889\n"
          ]
        }
      ]
    }
  ]
}