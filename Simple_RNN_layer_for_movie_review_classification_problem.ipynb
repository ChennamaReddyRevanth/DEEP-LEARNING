{
  "nbformat": 4,
  "nbformat_minor": 0,
  "metadata": {
    "colab": {
      "provenance": [],
      "authorship_tag": "ABX9TyOqSSxvSSFf/LLNVzDUSS4i",
      "include_colab_link": true
    },
    "kernelspec": {
      "name": "python3",
      "display_name": "Python 3"
    },
    "language_info": {
      "name": "python"
    }
  },
  "cells": [
    {
      "cell_type": "markdown",
      "metadata": {
        "id": "view-in-github",
        "colab_type": "text"
      },
      "source": [
        "<a href=\"https://colab.research.google.com/github/ChennamaReddyRevanth/DEEP-LEARNING/blob/main/Simple_RNN_layer_for_movie_review_classification_problem.ipynb\" target=\"_parent\"><img src=\"https://colab.research.google.com/assets/colab-badge.svg\" alt=\"Open In Colab\"/></a>"
      ]
    },
    {
      "cell_type": "code",
      "execution_count": 1,
      "metadata": {
        "id": "lqomcjnw-O-J"
      },
      "outputs": [],
      "source": [
        "import numpy as np\n",
        "from tensorflow.keras.datasets import imdb\n",
        "from tensorflow.keras.models import Sequential\n",
        "from tensorflow.keras.layers import Embedding,SimpleRNN,Dense\n",
        "from tensorflow.keras.preprocessing.sequence import pad_sequences\n",
        "from tensorflow.keras.utils import to_categorical\n",
        "from sklearn.model_selection import train_test_split\n"
      ]
    },
    {
      "cell_type": "code",
      "source": [
        "#Load the IMDB dataset\n",
        "max_words=10000\n",
        "max_len=200\n",
        "(X_train,y_train),(X_test,y_test)=imdb.load_data(num_words=max_words)"
      ],
      "metadata": {
        "colab": {
          "base_uri": "https://localhost:8080/"
        },
        "id": "oTz8Vb6f-z4u",
        "outputId": "f7d7cade-192e-4504-ceda-f9b29cc272be"
      },
      "execution_count": 2,
      "outputs": [
        {
          "output_type": "stream",
          "name": "stdout",
          "text": [
            "Downloading data from https://storage.googleapis.com/tensorflow/tf-keras-datasets/imdb.npz\n",
            "17464789/17464789 [==============================] - 1s 0us/step\n"
          ]
        }
      ]
    },
    {
      "cell_type": "code",
      "source": [
        "#pad sequences to a fixed length\n",
        "X_train=pad_sequences(X_train,maxlen=max_len)\n",
        "X_test=pad_sequences(X_test,maxlen=max_len)"
      ],
      "metadata": {
        "id": "PH_ZwtQi-__O"
      },
      "execution_count": 3,
      "outputs": []
    },
    {
      "cell_type": "code",
      "source": [
        "#one hot encoding\n",
        "y_train=to_categorical(y_train,num_classes=2)\n",
        "y_test=to_categorical(y_test,num_classes=2)"
      ],
      "metadata": {
        "id": "VYoHOUJp_PL8"
      },
      "execution_count": 4,
      "outputs": []
    },
    {
      "cell_type": "code",
      "source": [
        "#split the training data into training and validation sets\n",
        "X_train,X_val,y_train,y_val=train_test_split(X_train,y_train,test_size=0.2,random_state=42)"
      ],
      "metadata": {
        "id": "HYxh3uj__fa7"
      },
      "execution_count": 5,
      "outputs": []
    },
    {
      "cell_type": "code",
      "source": [
        "#Define the model\n",
        "model=Sequential()\n",
        "model.add(Embedding(max_words,32,input_length=max_len))\n",
        "model.add(SimpleRNN(32))\n",
        "model.add(Dense(2,activation='softmax'))"
      ],
      "metadata": {
        "id": "-h4G_0RU_6Oe"
      },
      "execution_count": 7,
      "outputs": []
    },
    {
      "cell_type": "code",
      "source": [
        "#compile the model\n",
        "model.compile(optimizer='adam',loss='categorical_crossentropy',metrics=['accuracy'])"
      ],
      "metadata": {
        "id": "QCby98_PASjS"
      },
      "execution_count": 8,
      "outputs": []
    },
    {
      "cell_type": "code",
      "source": [
        "#Train the model\n",
        "epochs=5\n",
        "batch_size=64\n",
        "model.fit(X_train,y_train,validation_data=(X_val,y_val),epochs=epochs,batch_size=batch_size)"
      ],
      "metadata": {
        "colab": {
          "base_uri": "https://localhost:8080/"
        },
        "id": "SsWvwDUrAitk",
        "outputId": "51191261-eb8d-4b28-b2bc-c0e13440096d"
      },
      "execution_count": 9,
      "outputs": [
        {
          "output_type": "stream",
          "name": "stdout",
          "text": [
            "Epoch 1/5\n",
            "313/313 [==============================] - 27s 81ms/step - loss: 0.5670 - accuracy: 0.6830 - val_loss: 0.3901 - val_accuracy: 0.8314\n",
            "Epoch 2/5\n",
            "313/313 [==============================] - 27s 87ms/step - loss: 0.3028 - accuracy: 0.8772 - val_loss: 0.3503 - val_accuracy: 0.8550\n",
            "Epoch 3/5\n",
            "313/313 [==============================] - 24s 78ms/step - loss: 0.1951 - accuracy: 0.9268 - val_loss: 0.4138 - val_accuracy: 0.8236\n",
            "Epoch 4/5\n",
            "313/313 [==============================] - 19s 61ms/step - loss: 0.1198 - accuracy: 0.9585 - val_loss: 0.4568 - val_accuracy: 0.8404\n",
            "Epoch 5/5\n",
            "313/313 [==============================] - 21s 68ms/step - loss: 0.3103 - accuracy: 0.8632 - val_loss: 0.6328 - val_accuracy: 0.6976\n"
          ]
        },
        {
          "output_type": "execute_result",
          "data": {
            "text/plain": [
              "<keras.src.callbacks.History at 0x79f96086df00>"
            ]
          },
          "metadata": {},
          "execution_count": 9
        }
      ]
    },
    {
      "cell_type": "code",
      "source": [
        "#Evaluate the model on the test set\n",
        "loss,accuracy=model.evaluate(X_test,y_test)\n",
        "print(f\"Test Loss: {loss:.4f}, Test Accuracy: { accuracy:.4f}\")"
      ],
      "metadata": {
        "colab": {
          "base_uri": "https://localhost:8080/"
        },
        "id": "VnjsK4cZA0rW",
        "outputId": "67cb2a65-d2da-4b1d-af7a-052bc280a99b"
      },
      "execution_count": 13,
      "outputs": [
        {
          "output_type": "stream",
          "name": "stdout",
          "text": [
            "782/782 [==============================] - 11s 14ms/step - loss: 0.6201 - accuracy: 0.7062\n",
            "Test Loss: 0.6201, Test Accuracy: 0.7062\n"
          ]
        }
      ]
    }
  ]
}