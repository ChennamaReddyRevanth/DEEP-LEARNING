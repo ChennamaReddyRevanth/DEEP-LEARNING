{
  "nbformat": 4,
  "nbformat_minor": 0,
  "metadata": {
    "colab": {
      "provenance": [],
      "authorship_tag": "ABX9TyMv6ISRVKhy+ZNKSONtMCE2",
      "include_colab_link": true
    },
    "kernelspec": {
      "name": "python3",
      "display_name": "Python 3"
    },
    "language_info": {
      "name": "python"
    }
  },
  "cells": [
    {
      "cell_type": "markdown",
      "metadata": {
        "id": "view-in-github",
        "colab_type": "text"
      },
      "source": [
        "<a href=\"https://colab.research.google.com/github/ChennamaReddyRevanth/DEEP-LEARNING/blob/main/Various_optimization_algorithms_and_analyse_their_performance_using_keras.ipynb\" target=\"_parent\"><img src=\"https://colab.research.google.com/assets/colab-badge.svg\" alt=\"Open In Colab\"/></a>"
      ]
    },
    {
      "cell_type": "code",
      "execution_count": 2,
      "metadata": {
        "id": "EkgazTbcftC8"
      },
      "outputs": [],
      "source": [
        "import numpy as np\n",
        "from tensorflow.keras.models import Sequential\n",
        "from tensorflow.keras.layers import Dense\n",
        "from tensorflow.keras.optimizers import SGD,Adam,RMSprop\n",
        "from sklearn.model_selection import train_test_split\n",
        "from sklearn.metrics import accuracy_score"
      ]
    },
    {
      "cell_type": "code",
      "source": [
        "#generate a simple dataset forbinary classification\n",
        "np.random.seed(42)\n",
        "X = np.random.rand(1000,10)\n",
        "y = (X[:,0]+X[:,1]+X[:,2] > 1.5).astype(int)"
      ],
      "metadata": {
        "id": "iTjoWz3-gTX_"
      },
      "execution_count": 3,
      "outputs": []
    },
    {
      "cell_type": "code",
      "source": [
        "#split the dataset into training and testing sets\n",
        "X_train,X_test,y_train,y_test=train_test_split(X,y,test_size=0.2,random_state=42)"
      ],
      "metadata": {
        "id": "vCWaphiBgyRN"
      },
      "execution_count": 4,
      "outputs": []
    },
    {
      "cell_type": "code",
      "source": [
        "#define a simple neural network model\n",
        "def create_model(optimizer):\n",
        "  model=Sequential()\n",
        "  model.add(Dense(16,input_dim=10,activation='relu'))\n",
        "  model.add(Dense(1,activation='sigmoid'))\n",
        "  model.compile(loss='binary_crossentropy',optimizer=optimizer,metrics=['accuracy'])\n",
        "  return model\n",
        "\n",
        "\n",
        "optimizers=['sgd','adam','rmsprop']\n",
        "for optimizer_name in optimizers:\n",
        "  optimizer=None\n",
        "\n",
        "  if optimizer_name=='sgd':\n",
        "    optimizer=SGD(learning_rate=0.01)\n",
        "  elif optimizer_name=='adam':\n",
        "    optimizer=Adam(learning_rate=0.001)\n",
        "  elif optimizer_name=='rmsprop':\n",
        "    optimizer=RMSprop(learning_rate=0.001)\n",
        "\n",
        "  model=create_model(optimizer)\n",
        "  print(f\"\\nTraining with {optimizer_name.upper()} optimizer:\")\n",
        "  model.fit(X_train,y_train,epochs=10,batch_size=32,validation_split=0.1,verbose=0)\n",
        "\n",
        "  #Evaluate the model on the test set\n",
        "  y_pred=model.predict(X_test)\n",
        "  y_pred= (y_pred >0.5).astype(int)\n",
        "  accuracy=accuracy_score(y_test,y_pred)\n",
        "  print(f\"Test Accuracy: {accuracy:.4f}\")"
      ],
      "metadata": {
        "colab": {
          "base_uri": "https://localhost:8080/"
        },
        "id": "7GT9M-Zxg-8W",
        "outputId": "874a78a7-2255-4415-fbba-8ae94014470f"
      },
      "execution_count": 8,
      "outputs": [
        {
          "output_type": "stream",
          "name": "stdout",
          "text": [
            "\n",
            "Training with SGD optimizer:\n",
            "7/7 [==============================] - 0s 2ms/step\n",
            "Test Accuracy: 0.6550\n",
            "\n",
            "Training with ADAM optimizer:\n",
            "7/7 [==============================] - 0s 2ms/step\n",
            "Test Accuracy: 0.8550\n",
            "\n",
            "Training with RMSPROP optimizer:\n",
            "7/7 [==============================] - 0s 3ms/step\n",
            "Test Accuracy: 0.7700\n"
          ]
        }
      ]
    }
  ]
}