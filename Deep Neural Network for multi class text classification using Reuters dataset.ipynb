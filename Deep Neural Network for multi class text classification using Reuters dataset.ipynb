{
 "cells": [
  {
   "cell_type": "code",
   "execution_count": 61,
   "id": "f9b78e74",
   "metadata": {},
   "outputs": [],
   "source": [
    "import numpy as np\n",
    "from tensorflow.keras.datasets import reuters\n",
    "from tensorflow.keras.models import Sequential\n",
    "from tensorflow.keras.layers import Dense,Embedding,LSTM\n",
    "from tensorflow.keras.preprocessing.sequence import pad_sequences \n",
    "from tensorflow.keras.utils import to_categorical\n",
    "from sklearn.model_selection import train_test_split"
   ]
  },
  {
   "cell_type": "code",
   "execution_count": 62,
   "id": "e18d144a",
   "metadata": {},
   "outputs": [],
   "source": [
    "#Load the recuters dataset\n",
    "\n",
    "max_words=15000\n",
    "(X_train,y_train),(X_test,y_test)=reuters.load_data(num_words=max_words,test_split=0.2)"
   ]
  },
  {
   "cell_type": "code",
   "execution_count": 63,
   "id": "54cc9a87",
   "metadata": {},
   "outputs": [],
   "source": [
    "# Pad sequences to a fixed length\n",
    "\n",
    "max_len=100\n",
    "X_train = pad_sequences(X_train,maxlen=max_len)\n",
    "X_test=pad_sequences(X_test,maxlen=max_len)"
   ]
  },
  {
   "cell_type": "code",
   "execution_count": 64,
   "id": "03019aba",
   "metadata": {},
   "outputs": [],
   "source": [
    "#one-hot encode the labels\n",
    "y_train = to_categorical(y_train,num_classes=46)\n",
    "y_test = to_categorical(y_test,num_classes =46)"
   ]
  },
  {
   "cell_type": "code",
   "execution_count": 65,
   "id": "894dc334",
   "metadata": {},
   "outputs": [],
   "source": [
    "#split the training data into training and validation sets\n",
    "X_train,X_val,y_train,y_val= train_test_split(X_train,y_train,test_size=0.2,random_state=42)\n"
   ]
  },
  {
   "cell_type": "code",
   "execution_count": 66,
   "id": "2f2b7050",
   "metadata": {},
   "outputs": [],
   "source": [
    "#define a deep neural network model\n",
    "\n",
    "model=Sequential()\n",
    "model.add(Embedding(max_words,128,input_length=max_len))\n",
    "model.add(LSTM(64,dropout=0.2,recurrent_dropout=0.2))\n",
    "model.add(Dense(46,activation='softmax'))"
   ]
  },
  {
   "cell_type": "code",
   "execution_count": 67,
   "id": "8135100d",
   "metadata": {},
   "outputs": [],
   "source": [
    "#compile the model\n",
    "model.compile(optimizer = \"adam\",loss = 'categorical_crossentropy',metrics=['accuracy'])"
   ]
  },
  {
   "cell_type": "code",
   "execution_count": 70,
   "id": "27f11c76",
   "metadata": {},
   "outputs": [
    {
     "name": "stdout",
     "output_type": "stream",
     "text": [
      "Epoch 1/12\n",
      "225/225 [==============================] - 8s 36ms/step - loss: 0.1430 - accuracy: 0.9560 - val_loss: 1.6871 - val_accuracy: 0.7056\n",
      "Epoch 2/12\n",
      "225/225 [==============================] - 8s 36ms/step - loss: 0.1275 - accuracy: 0.9609 - val_loss: 1.6943 - val_accuracy: 0.7051\n",
      "Epoch 3/12\n",
      "225/225 [==============================] - 8s 37ms/step - loss: 0.1203 - accuracy: 0.9609 - val_loss: 1.7176 - val_accuracy: 0.7017\n",
      "Epoch 4/12\n",
      "225/225 [==============================] - 8s 37ms/step - loss: 0.1077 - accuracy: 0.9614 - val_loss: 1.8459 - val_accuracy: 0.6817\n",
      "Epoch 5/12\n",
      "225/225 [==============================] - 8s 37ms/step - loss: 0.1105 - accuracy: 0.9587 - val_loss: 1.7169 - val_accuracy: 0.7051\n",
      "Epoch 6/12\n",
      "225/225 [==============================] - 8s 37ms/step - loss: 0.1028 - accuracy: 0.9594 - val_loss: 1.7686 - val_accuracy: 0.6984\n",
      "Epoch 7/12\n",
      "225/225 [==============================] - 8s 38ms/step - loss: 0.0939 - accuracy: 0.9598 - val_loss: 1.8099 - val_accuracy: 0.6928\n",
      "Epoch 8/12\n",
      "225/225 [==============================] - 8s 37ms/step - loss: 0.0901 - accuracy: 0.9623 - val_loss: 1.8177 - val_accuracy: 0.7023\n",
      "Epoch 9/12\n",
      "225/225 [==============================] - 9s 39ms/step - loss: 0.0867 - accuracy: 0.9596 - val_loss: 1.7936 - val_accuracy: 0.7040\n",
      "Epoch 10/12\n",
      "225/225 [==============================] - 9s 38ms/step - loss: 0.0852 - accuracy: 0.9624 - val_loss: 1.8080 - val_accuracy: 0.7123\n",
      "Epoch 11/12\n",
      "225/225 [==============================] - 8s 37ms/step - loss: 0.0891 - accuracy: 0.9580 - val_loss: 1.8411 - val_accuracy: 0.7084\n",
      "Epoch 12/12\n",
      "225/225 [==============================] - 9s 38ms/step - loss: 0.0830 - accuracy: 0.9613 - val_loss: 1.8811 - val_accuracy: 0.7006\n",
      "71/71 [==============================] - 0s 6ms/step - loss: 1.9596 - accuracy: 0.6785\n",
      "Test Loss: 1.9596, Test Accuracy: 0.6785\n"
     ]
    }
   ],
   "source": [
    "#Train the model\n",
    "\n",
    "epochs=12\n",
    "batch_size=32\n",
    "model.fit(X_train,y_train,validation_data=(X_val,y_val),epochs=epochs,batch_size=batch_size)\n",
    "#evaluate the model on the testset\n",
    "loss,accuracy=model.evaluate(X_test,y_test)\n",
    "print(f\"Test Loss: {loss:.4f}, Test Accuracy: {accuracy:.4f}\")"
   ]
  },
  {
   "cell_type": "code",
   "execution_count": 18,
   "id": "d2c213f0",
   "metadata": {},
   "outputs": [
    {
     "name": "stdout",
     "output_type": "stream",
     "text": [
      "71/71 [==============================] - 0s 4ms/step - loss: nan - accuracy: 0.0053\n",
      "Test Loss: nan, Test Accuracy: 0.0053\n"
     ]
    }
   ],
   "source": [
    "#evaluate the model on the testset\n",
    "loss,accuracy=model.evaluate(X_test,y_test)\n",
    "print(f\"Test Loss: {loss:.4f}, Test Accuracy: {accuracy:.4f}\")"
   ]
  },
  {
   "cell_type": "code",
   "execution_count": null,
   "id": "2e185ded",
   "metadata": {},
   "outputs": [],
   "source": []
  },
  {
   "cell_type": "code",
   "execution_count": null,
   "id": "afe98ce2",
   "metadata": {},
   "outputs": [],
   "source": []
  }
 ],
 "metadata": {
  "kernelspec": {
   "display_name": "Python 3 (ipykernel)",
   "language": "python",
   "name": "python3"
  },
  "language_info": {
   "codemirror_mode": {
    "name": "ipython",
    "version": 3
   },
   "file_extension": ".py",
   "mimetype": "text/x-python",
   "name": "python",
   "nbconvert_exporter": "python",
   "pygments_lexer": "ipython3",
   "version": "3.11.5"
  }
 },
 "nbformat": 4,
 "nbformat_minor": 5
}
