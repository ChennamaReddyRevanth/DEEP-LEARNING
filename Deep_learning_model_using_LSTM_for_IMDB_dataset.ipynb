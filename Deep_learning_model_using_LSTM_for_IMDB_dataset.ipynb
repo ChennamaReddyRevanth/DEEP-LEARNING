{
  "nbformat": 4,
  "nbformat_minor": 0,
  "metadata": {
    "colab": {
      "provenance": [],
      "authorship_tag": "ABX9TyP+Q+7Ensf3PVevPnByIJ4e",
      "include_colab_link": true
    },
    "kernelspec": {
      "name": "python3",
      "display_name": "Python 3"
    },
    "language_info": {
      "name": "python"
    }
  },
  "cells": [
    {
      "cell_type": "markdown",
      "metadata": {
        "id": "view-in-github",
        "colab_type": "text"
      },
      "source": [
        "<a href=\"https://colab.research.google.com/github/ChennamaReddyRevanth/DEEP-LEARNING/blob/main/Deep_learning_model_using_LSTM_for_IMDB_dataset.ipynb\" target=\"_parent\"><img src=\"https://colab.research.google.com/assets/colab-badge.svg\" alt=\"Open In Colab\"/></a>"
      ]
    },
    {
      "cell_type": "code",
      "execution_count": 2,
      "metadata": {
        "id": "gq9dcKEYbY92"
      },
      "outputs": [],
      "source": [
        "import numpy as np\n",
        "from tensorflow.keras.datasets import imdb\n",
        "from tensorflow.keras.models import Sequential\n",
        "from tensorflow.keras.layers import Embedding,LSTM,Dense\n",
        "from tensorflow.keras.preprocessing.sequence import pad_sequences\n",
        "from tensorflow.keras.utils import to_categorical\n",
        "from sklearn.model_selection import train_test_split"
      ]
    },
    {
      "cell_type": "code",
      "source": [
        "#load the imdb dataset\n",
        "max_words=10000\n",
        "max_len=200\n",
        "(X_train,y_train),(X_test,y_test)=imdb.load_data(num_words=max_words)"
      ],
      "metadata": {
        "colab": {
          "base_uri": "https://localhost:8080/"
        },
        "id": "KzPOxceEb9pO",
        "outputId": "3779313a-11c0-4e1b-a00f-3892c7f8f8c9"
      },
      "execution_count": 3,
      "outputs": [
        {
          "output_type": "stream",
          "name": "stdout",
          "text": [
            "Downloading data from https://storage.googleapis.com/tensorflow/tf-keras-datasets/imdb.npz\n",
            "17464789/17464789 [==============================] - 0s 0us/step\n"
          ]
        }
      ]
    },
    {
      "cell_type": "code",
      "source": [
        "#pad Sequences to a fixed length\n",
        "X_train=pad_sequences(X_train,maxlen=max_len)\n",
        "X_test=pad_sequences(X_test,maxlen=max_len)"
      ],
      "metadata": {
        "id": "fHpBBZHgcSjI"
      },
      "execution_count": 4,
      "outputs": []
    },
    {
      "cell_type": "code",
      "source": [
        "#one hot encode the labels\n",
        "y_train = to_categorical(y_train,num_classes=2)\n",
        "y_test = to_categorical(y_test,num_classes=2)"
      ],
      "metadata": {
        "id": "RnTeBgzAcq64"
      },
      "execution_count": 5,
      "outputs": []
    },
    {
      "cell_type": "code",
      "source": [
        "#split the training data into training and validation sets\n",
        "X_train,X_val,y_train,y_val=train_test_split(X_train,y_train,test_size=0.2,random_state=42)"
      ],
      "metadata": {
        "id": "qOAs25NHc3sz"
      },
      "execution_count": 7,
      "outputs": []
    },
    {
      "cell_type": "code",
      "source": [
        "#define the LSTM model\n",
        "model=Sequential()\n",
        "model.add(Embedding(max_words,32,input_length=max_len))\n",
        "model.add(LSTM(32))\n",
        "model.add(Dense(2,activation='softmax'))"
      ],
      "metadata": {
        "id": "qVQsaD_EdHoC"
      },
      "execution_count": 8,
      "outputs": []
    },
    {
      "cell_type": "code",
      "source": [
        "#compile the model\n",
        "model.compile(optimizer='adam',loss='categorical_crossentropy',metrics=['accuracy'])"
      ],
      "metadata": {
        "id": "h3GToGxzdhW7"
      },
      "execution_count": 9,
      "outputs": []
    },
    {
      "cell_type": "code",
      "source": [
        "#Train the model\n",
        "epochs=5\n",
        "batch_size=64\n",
        "model.fit(X_train,y_train,validation_data=(X_val,y_val),epochs=epochs,batch_size=batch_size)"
      ],
      "metadata": {
        "colab": {
          "base_uri": "https://localhost:8080/"
        },
        "id": "oLao-5KUdr6e",
        "outputId": "7491c6e7-4f64-4a34-87a5-bd02b1082297"
      },
      "execution_count": 10,
      "outputs": [
        {
          "output_type": "stream",
          "name": "stdout",
          "text": [
            "Epoch 1/5\n",
            "313/313 [==============================] - 51s 155ms/step - loss: 0.4126 - accuracy: 0.8078 - val_loss: 0.3026 - val_accuracy: 0.8722\n",
            "Epoch 2/5\n",
            "313/313 [==============================] - 42s 134ms/step - loss: 0.2316 - accuracy: 0.9122 - val_loss: 0.3871 - val_accuracy: 0.8662\n",
            "Epoch 3/5\n",
            "313/313 [==============================] - 35s 110ms/step - loss: 0.1676 - accuracy: 0.9391 - val_loss: 0.3376 - val_accuracy: 0.8614\n",
            "Epoch 4/5\n",
            "313/313 [==============================] - 38s 122ms/step - loss: 0.1296 - accuracy: 0.9542 - val_loss: 0.3440 - val_accuracy: 0.8686\n",
            "Epoch 5/5\n",
            "313/313 [==============================] - 35s 111ms/step - loss: 0.0970 - accuracy: 0.9683 - val_loss: 0.3942 - val_accuracy: 0.8638\n"
          ]
        },
        {
          "output_type": "execute_result",
          "data": {
            "text/plain": [
              "<keras.src.callbacks.History at 0x781c3e412920>"
            ]
          },
          "metadata": {},
          "execution_count": 10
        }
      ]
    },
    {
      "cell_type": "code",
      "source": [
        "#Evaluate the model on the test set\n",
        "loss,accuracy=model.evaluate(X_test,y_test)\n",
        "print(f\"Test Loss: {loss:.4f}, Test Accuracy: {accuracy:.4f}\")"
      ],
      "metadata": {
        "colab": {
          "base_uri": "https://localhost:8080/"
        },
        "id": "MnkVU2LSd7HI",
        "outputId": "28d8cd4b-c25c-4167-a438-25df87d889ac"
      },
      "execution_count": 11,
      "outputs": [
        {
          "output_type": "stream",
          "name": "stdout",
          "text": [
            "782/782 [==============================] - 18s 23ms/step - loss: 0.4306 - accuracy: 0.8538\n",
            "Test Loss: 0.4306, Test Accuracy: 0.8538\n"
          ]
        }
      ]
    }
  ]
}