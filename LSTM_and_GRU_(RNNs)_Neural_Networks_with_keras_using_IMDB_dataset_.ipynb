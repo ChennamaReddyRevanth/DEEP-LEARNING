{
  "nbformat": 4,
  "nbformat_minor": 0,
  "metadata": {
    "colab": {
      "provenance": [],
      "authorship_tag": "ABX9TyPYLdqO0C49HIb+1+lhkX2C",
      "include_colab_link": true
    },
    "kernelspec": {
      "name": "python3",
      "display_name": "Python 3"
    },
    "language_info": {
      "name": "python"
    }
  },
  "cells": [
    {
      "cell_type": "markdown",
      "metadata": {
        "id": "view-in-github",
        "colab_type": "text"
      },
      "source": [
        "<a href=\"https://colab.research.google.com/github/ChennamaReddyRevanth/DEEP-LEARNING/blob/main/LSTM_and_GRU_(RNNs)_Neural_Networks_with_keras_using_IMDB_dataset_.ipynb\" target=\"_parent\"><img src=\"https://colab.research.google.com/assets/colab-badge.svg\" alt=\"Open In Colab\"/></a>"
      ]
    },
    {
      "cell_type": "code",
      "execution_count": 1,
      "metadata": {
        "id": "B_KYELuLEnd5"
      },
      "outputs": [],
      "source": [
        "import numpy as np\n",
        "from tensorflow.keras.datasets import imdb\n",
        "from tensorflow.keras.models import Sequential\n",
        "from tensorflow.keras.layers import Embedding, GRU, LSTM, Dense\n",
        "from tensorflow.keras.preprocessing.sequence import pad_sequences\n",
        "from tensorflow.keras.utils import to_categorical\n",
        "from sklearn.model_selection import train_test_split"
      ]
    },
    {
      "cell_type": "code",
      "source": [
        "# Load the IMDB dataset\n",
        "vocab_size = 10000\n",
        "\n",
        "\n",
        "max_len = 200\n",
        "\n",
        "\n",
        "(X_train, y_train), (X_test, y_test) = imdb.load_data(num_words=vocab_size)\n",
        "\n",
        "\n",
        "# Pad sequences to a fixed length\n",
        "X_train = pad_sequences(X_train, maxlen=max_len)\n",
        "X_test = pad_sequences(X_test, maxlen=max_len)\n",
        "\n",
        "\n",
        "# One-hot encode the labels\n",
        "y_train = to_categorical(y_train, num_classes=2)\n",
        "y_test = to_categorical(y_test, num_classes=2)\n",
        "\n",
        "\n",
        "# Split the training data into training and validation sets\n",
        "X_train, X_val, y_train, y_val = train_test_split(X_train, y_train, test_size=0.2,\n",
        "random_state=42)"
      ],
      "metadata": {
        "colab": {
          "base_uri": "https://localhost:8080/"
        },
        "id": "NI_A50qWWd8Y",
        "outputId": "051a2ca8-b610-4348-be6c-e575e1de8b1c"
      },
      "execution_count": 3,
      "outputs": [
        {
          "output_type": "stream",
          "name": "stdout",
          "text": [
            "Downloading data from https://storage.googleapis.com/tensorflow/tf-keras-datasets/imdb.npz\n",
            "17464789/17464789 [==============================] - 0s 0us/step\n"
          ]
        }
      ]
    },
    {
      "cell_type": "code",
      "source": [
        "# Define a GRU-based model\n",
        "model_gru = Sequential()\n",
        "\n",
        "\n",
        "model_gru.add(Embedding(vocab_size, 128, input_length=max_len))\n",
        "\n",
        "\n",
        "model_gru.add(GRU(64))\n",
        "\n",
        "model_gru.add(Dense(2, activation='softmax'))\n",
        "\n",
        "\n",
        "model_gru.compile(optimizer='adam', loss='categorical_crossentropy', metrics=['accuracy'])\n",
        "\n",
        "\n",
        "# Train the GRU model\n",
        "model_gru.fit(X_train, y_train, validation_data=(X_val, y_val), epochs=3, batch_size=64)\n",
        "\n",
        "\n",
        "# Evaluate the GRU model\n",
        "gru_loss, gru_accuracy = model_gru.evaluate(X_test, y_test)\n",
        "print(f\"GRU Model - Test Loss: {gru_loss:.4f}, Test Accuracy: {gru_accuracy:.4f}\")\n"
      ],
      "metadata": {
        "colab": {
          "base_uri": "https://localhost:8080/"
        },
        "id": "YUKLupW0WheG",
        "outputId": "66f91a6d-07c9-4c8f-d2da-f095924e9985"
      },
      "execution_count": 4,
      "outputs": [
        {
          "output_type": "stream",
          "name": "stdout",
          "text": [
            "Epoch 1/3\n",
            "313/313 [==============================] - 86s 264ms/step - loss: 0.4681 - accuracy: 0.7688 - val_loss: 0.3281 - val_accuracy: 0.8576\n",
            "Epoch 2/3\n",
            "313/313 [==============================] - 83s 264ms/step - loss: 0.2429 - accuracy: 0.9054 - val_loss: 0.3425 - val_accuracy: 0.8494\n",
            "Epoch 3/3\n",
            "313/313 [==============================] - 81s 260ms/step - loss: 0.1674 - accuracy: 0.9395 - val_loss: 0.3539 - val_accuracy: 0.8598\n",
            "782/782 [==============================] - 25s 32ms/step - loss: 0.3678 - accuracy: 0.8518\n",
            "GRU Model - Test Loss: 0.3678, Test Accuracy: 0.8518\n"
          ]
        }
      ]
    },
    {
      "cell_type": "code",
      "source": [
        "model_lstm = Sequential()\n",
        "\n",
        "\n",
        "model_lstm.add(Embedding(vocab_size, 128, input_length=max_len))\n",
        "\n",
        "\n",
        "model_lstm.add(LSTM(64))\n",
        "\n",
        "\n",
        "model_lstm.add(Dense(2, activation='softmax'))\n",
        "\n",
        "\n",
        "model_lstm.compile(optimizer='adam', loss='categorical_crossentropy', metrics=['accuracy'])\n",
        "\n",
        "\n",
        "# Train the LSTM model\n",
        "model_lstm.fit(X_train, y_train, validation_data=(X_val, y_val), epochs=3, batch_size=64)\n",
        "\n",
        "\n",
        "# Evaluate the LSTM model\n",
        "lstm_loss, lstm_accuracy = model_lstm.evaluate(X_test, y_test)\n",
        "print(f\"LSTM Model - Test Loss: {lstm_loss:.4f}, Test Accuracy: {lstm_accuracy:.4f}\")"
      ],
      "metadata": {
        "colab": {
          "base_uri": "https://localhost:8080/"
        },
        "id": "N5gzqC6rWlN3",
        "outputId": "1cc88b04-23de-4803-e5b9-0eb3e6310466"
      },
      "execution_count": 5,
      "outputs": [
        {
          "output_type": "stream",
          "name": "stdout",
          "text": [
            "Epoch 1/3\n",
            "313/313 [==============================] - 97s 300ms/step - loss: 0.4252 - accuracy: 0.7993 - val_loss: 0.3182 - val_accuracy: 0.8648\n",
            "Epoch 2/3\n",
            "313/313 [==============================] - 91s 292ms/step - loss: 0.2268 - accuracy: 0.9125 - val_loss: 0.3113 - val_accuracy: 0.8762\n",
            "Epoch 3/3\n",
            "313/313 [==============================] - 91s 292ms/step - loss: 0.1513 - accuracy: 0.9447 - val_loss: 0.3506 - val_accuracy: 0.8614\n",
            "782/782 [==============================] - 32s 41ms/step - loss: 0.3626 - accuracy: 0.8570\n",
            "LSTM Model - Test Loss: 0.3626, Test Accuracy: 0.8570\n"
          ]
        }
      ]
    }
  ]
}